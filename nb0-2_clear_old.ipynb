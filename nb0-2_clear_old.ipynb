{
 "cells": [
  {
   "cell_type": "code",
   "execution_count": 1,
   "id": "332adbd8-d7ff-45fb-a59c-40bed82a0e7b",
   "metadata": {},
   "outputs": [],
   "source": [
    "!rm -r checkpoints/"
   ]
  },
  {
   "cell_type": "code",
   "execution_count": 2,
   "id": "d17277fb-b79d-484e-828f-be98062fa3c8",
   "metadata": {},
   "outputs": [],
   "source": [
    "!rm -r raw_czech/"
   ]
  },
  {
   "cell_type": "code",
   "execution_count": 3,
   "id": "b1c79598-1eeb-4b7f-a970-7c93d647a723",
   "metadata": {},
   "outputs": [],
   "source": [
    "!rm -r stored_data/"
   ]
  },
  {
   "cell_type": "code",
   "execution_count": 4,
   "id": "f7a3a02d-3f7b-4892-b744-8389aa565158",
   "metadata": {},
   "outputs": [],
   "source": [
    "!rm -r generated_data/"
   ]
  },
  {
   "cell_type": "code",
   "execution_count": 5,
   "id": "a577ebe0-a4f1-4147-9b25-badfe571b27e",
   "metadata": {},
   "outputs": [],
   "source": [
    "!rm -r training_history/"
   ]
  },
  {
   "cell_type": "code",
   "execution_count": 6,
   "id": "9ccea793-9d78-4464-8340-fc7ecfd9a644",
   "metadata": {},
   "outputs": [],
   "source": [
    "!mkdir checkpoints/"
   ]
  },
  {
   "cell_type": "code",
   "execution_count": 7,
   "id": "99261dce-cda7-4ea9-b98a-1cad69a09050",
   "metadata": {},
   "outputs": [],
   "source": [
    "!mkdir stored_data/"
   ]
  },
  {
   "cell_type": "code",
   "execution_count": 8,
   "id": "59440b3b-0494-4dbe-9c14-805d9e8c1a17",
   "metadata": {},
   "outputs": [],
   "source": [
    "!mkdir generated_data/"
   ]
  },
  {
   "cell_type": "code",
   "execution_count": 9,
   "id": "ff182fa4-2b5e-4278-aba1-905625e196c7",
   "metadata": {},
   "outputs": [],
   "source": [
    "!mkdir training_history/"
   ]
  },
  {
   "cell_type": "code",
   "execution_count": 10,
   "id": "f4e26d29-3113-4e93-8a5e-ddbc4fe8b9e5",
   "metadata": {},
   "outputs": [],
   "source": [
    "!mkdir raw_czech/"
   ]
  },
  {
   "cell_type": "code",
   "execution_count": null,
   "id": "9f5e2236-1e56-4db1-8e3a-65270a139aa4",
   "metadata": {},
   "outputs": [],
   "source": []
  }
 ],
 "metadata": {
  "kernelspec": {
   "display_name": "Python 3 (ipykernel)",
   "language": "python",
   "name": "python3"
  },
  "language_info": {
   "codemirror_mode": {
    "name": "ipython",
    "version": 3
   },
   "file_extension": ".py",
   "mimetype": "text/x-python",
   "name": "python",
   "nbconvert_exporter": "python",
   "pygments_lexer": "ipython3",
   "version": "3.9.7"
  }
 },
 "nbformat": 4,
 "nbformat_minor": 5
}
